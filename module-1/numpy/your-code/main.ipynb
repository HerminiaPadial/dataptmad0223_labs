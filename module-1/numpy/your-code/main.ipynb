{
 "cells": [
  {
   "cell_type": "markdown",
   "metadata": {},
   "source": [
    "# Introduction to NumPy\n",
    "\n",
    "\n",
    "#### 1. Import NumPy under the name np."
   ]
  },
  {
   "cell_type": "code",
   "execution_count": 3,
   "metadata": {},
   "outputs": [],
   "source": [
    "#RESPUESTA\n",
    "import numpy as np\n"
   ]
  },
  {
   "cell_type": "markdown",
   "metadata": {},
   "source": [
    "#### 2. Print your NumPy version."
   ]
  },
  {
   "cell_type": "code",
   "execution_count": 4,
   "metadata": {},
   "outputs": [
    {
     "name": "stdout",
     "output_type": "stream",
     "text": [
      "1.23.5\n"
     ]
    }
   ],
   "source": [
    "#RESPUESTA\n",
    "print(np.__version__)"
   ]
  },
  {
   "cell_type": "markdown",
   "metadata": {},
   "source": [
    "#### 3. Generate a 2x3x5 3-dimensional array with random values. Assign the array to variable *a*.\n",
    "**Challenge**: there are at least three easy ways that use numpy to generate random arrays. How many ways can you find?"
   ]
  },
  {
   "cell_type": "code",
   "execution_count": 5,
   "metadata": {},
   "outputs": [
    {
     "name": "stdout",
     "output_type": "stream",
     "text": [
      "[[[0.61526896 0.76017765 0.50797715 0.93468761 0.70820072]\n",
      "  [0.55798169 0.10298531 0.6374498  0.45924971 0.05444781]\n",
      "  [0.17892304 0.09790997 0.91495434 0.37341665 0.36905863]]\n",
      "\n",
      " [[0.48502514 0.64672936 0.61316694 0.13974514 0.10380713]\n",
      "  [0.52899801 0.11373726 0.78082968 0.26405525 0.31240051]\n",
      "  [0.04130626 0.68957762 0.15914575 0.20585253 0.25530079]]]\n"
     ]
    }
   ],
   "source": [
    "# Method 1\n",
    "a = np.random.rand(2,3,5)\n",
    "print(a)"
   ]
  },
  {
   "cell_type": "code",
   "execution_count": 6,
   "metadata": {},
   "outputs": [
    {
     "name": "stdout",
     "output_type": "stream",
     "text": [
      "[[[0.42217073 0.82212805 0.84431763 0.01005204 0.57487319]\n",
      "  [0.91708793 0.48261971 0.64373218 0.93999073 0.53571055]\n",
      "  [0.00692055 0.04791963 0.06142041 0.15629291 0.27083917]]\n",
      "\n",
      " [[0.35443413 0.70890542 0.61954607 0.97452927 0.51697064]\n",
      "  [0.6811621  0.33285159 0.80228549 0.79027899 0.02728469]\n",
      "  [0.63292793 0.12574107 0.12601966 0.27716313 0.41619561]]]\n"
     ]
    }
   ],
   "source": [
    "# Method 2\n",
    "b= np.random.random_sample((2,3,5))\n",
    "print(b)"
   ]
  },
  {
   "cell_type": "code",
   "execution_count": 7,
   "metadata": {},
   "outputs": [
    {
     "name": "stdout",
     "output_type": "stream",
     "text": [
      "[[[58 95 91 67 95]\n",
      "  [48 18  6 70 19]\n",
      "  [23 97 59 41 44]]\n",
      "\n",
      " [[60 33 87 32 91]\n",
      "  [58 74 22 29 77]\n",
      "  [66 59 26 38  3]]]\n"
     ]
    }
   ],
   "source": [
    "# Method 3\n",
    "c= np.random.randint(low=3,high=(100), size=(2, 3, 5))\n",
    "print(c)\n",
    " #low es el número más bajo que permite y high elmás alto.\n"
   ]
  },
  {
   "cell_type": "code",
   "execution_count": 8,
   "metadata": {},
   "outputs": [
    {
     "data": {
      "text/plain": [
       "array([[[ 0,  1,  2,  3,  4],\n",
       "        [ 5,  6,  7,  8,  9],\n",
       "        [10, 11, 12, 13, 14]],\n",
       "\n",
       "       [[15, 16, 17, 18, 19],\n",
       "        [20, 21, 22, 23, 24],\n",
       "        [25, 26, 27, 28, 29]]])"
      ]
     },
     "execution_count": 8,
     "metadata": {},
     "output_type": "execute_result"
    }
   ],
   "source": [
    "np.arange(30).reshape(2,3,5)"
   ]
  },
  {
   "cell_type": "markdown",
   "metadata": {},
   "source": [
    "#### 4. Print *a*.\n"
   ]
  },
  {
   "cell_type": "code",
   "execution_count": 9,
   "metadata": {},
   "outputs": [
    {
     "name": "stdout",
     "output_type": "stream",
     "text": [
      "[[[0.61526896 0.76017765 0.50797715 0.93468761 0.70820072]\n",
      "  [0.55798169 0.10298531 0.6374498  0.45924971 0.05444781]\n",
      "  [0.17892304 0.09790997 0.91495434 0.37341665 0.36905863]]\n",
      "\n",
      " [[0.48502514 0.64672936 0.61316694 0.13974514 0.10380713]\n",
      "  [0.52899801 0.11373726 0.78082968 0.26405525 0.31240051]\n",
      "  [0.04130626 0.68957762 0.15914575 0.20585253 0.25530079]]]\n"
     ]
    }
   ],
   "source": [
    "#RESPUESTA\n",
    "print(a)"
   ]
  },
  {
   "cell_type": "markdown",
   "metadata": {},
   "source": [
    "#### 5. Create a 5x2x3 3-dimensional array with all values equaling 1. Assign the array to variable *b*."
   ]
  },
  {
   "cell_type": "code",
   "execution_count": 10,
   "metadata": {},
   "outputs": [],
   "source": [
    "# ANSWER\n",
    "b= np.ones((5,2,3))"
   ]
  },
  {
   "cell_type": "markdown",
   "metadata": {},
   "source": [
    "#### 6. Print *b*.\n"
   ]
  },
  {
   "cell_type": "code",
   "execution_count": 11,
   "metadata": {},
   "outputs": [
    {
     "name": "stdout",
     "output_type": "stream",
     "text": [
      "[[[1. 1. 1.]\n",
      "  [1. 1. 1.]]\n",
      "\n",
      " [[1. 1. 1.]\n",
      "  [1. 1. 1.]]\n",
      "\n",
      " [[1. 1. 1.]\n",
      "  [1. 1. 1.]]\n",
      "\n",
      " [[1. 1. 1.]\n",
      "  [1. 1. 1.]]\n",
      "\n",
      " [[1. 1. 1.]\n",
      "  [1. 1. 1.]]]\n"
     ]
    }
   ],
   "source": [
    "# ANSWER\n",
    "print(b)"
   ]
  },
  {
   "cell_type": "markdown",
   "metadata": {},
   "source": [
    "#### 7. Do *a* and *b* have the same size? How do you prove that in Python code?"
   ]
  },
  {
   "cell_type": "code",
   "execution_count": 12,
   "metadata": {},
   "outputs": [
    {
     "name": "stdout",
     "output_type": "stream",
     "text": [
      "True\n"
     ]
    }
   ],
   "source": [
    "if a.size == b.size:\n",
    "    print(True)\n",
    "else:\n",
    "    print(False)\n",
    "\n",
    "#\"a\" and \"b\" have the same size\n"
   ]
  },
  {
   "cell_type": "markdown",
   "metadata": {},
   "source": [
    "#### 8. Are you able to add *a* and *b*? Why or why not?\n"
   ]
  },
  {
   "cell_type": "code",
   "execution_count": 13,
   "metadata": {},
   "outputs": [
    {
     "name": "stdout",
     "output_type": "stream",
     "text": [
      "[[[1.61526896 1.76017765 1.50797715 1.93468761 1.70820072]\n",
      "  [1.55798169 1.10298531 1.6374498  1.45924971 1.05444781]\n",
      "  [1.17892304 1.09790997 1.91495434 1.37341665 1.36905863]]\n",
      "\n",
      " [[1.48502514 1.64672936 1.61316694 1.13974514 1.10380713]\n",
      "  [1.52899801 1.11373726 1.78082968 1.26405525 1.31240051]\n",
      "  [1.04130626 1.68957762 1.15914575 1.20585253 1.25530079]]]\n"
     ]
    }
   ],
   "source": [
    "#At first it would be not possible becasuse hvent got the same shape but if I do a.reshape, it is.\n",
    "b_res= b.reshape(2,3,5)\n",
    "arrays_sum = a + b_res\n",
    "print(arrays_sum)\n"
   ]
  },
  {
   "cell_type": "markdown",
   "metadata": {},
   "source": [
    "#### 9. Transpose *b* so that it has the same structure of *a* (i.e. become a 2x3x5 array). Assign the transposed array to variable *c*."
   ]
  },
  {
   "cell_type": "code",
   "execution_count": 14,
   "metadata": {},
   "outputs": [
    {
     "name": "stdout",
     "output_type": "stream",
     "text": [
      "[[[1. 1. 1. 1. 1.]\n",
      "  [1. 1. 1. 1. 1.]\n",
      "  [1. 1. 1. 1. 1.]]\n",
      "\n",
      " [[1. 1. 1. 1. 1.]\n",
      "  [1. 1. 1. 1. 1.]\n",
      "  [1. 1. 1. 1. 1.]]]\n"
     ]
    }
   ],
   "source": [
    "# your code here\n",
    "c= b.reshape(5,3,2).transpose()\n",
    "print(c)"
   ]
  },
  {
   "cell_type": "markdown",
   "metadata": {},
   "source": [
    "#### 10. Try to add *a* and *c*. Now it should work. Assign the sum to variable *d*. But why does it work now?"
   ]
  },
  {
   "cell_type": "code",
   "execution_count": 15,
   "metadata": {},
   "outputs": [
    {
     "name": "stdout",
     "output_type": "stream",
     "text": [
      "[[[1.61526896 1.76017765 1.50797715 1.93468761 1.70820072]\n",
      "  [1.55798169 1.10298531 1.6374498  1.45924971 1.05444781]\n",
      "  [1.17892304 1.09790997 1.91495434 1.37341665 1.36905863]]\n",
      "\n",
      " [[1.48502514 1.64672936 1.61316694 1.13974514 1.10380713]\n",
      "  [1.52899801 1.11373726 1.78082968 1.26405525 1.31240051]\n",
      "  [1.04130626 1.68957762 1.15914575 1.20585253 1.25530079]]]\n"
     ]
    }
   ],
   "source": [
    "# It works because both have the same shape. In the other case, I had to do reshape but here it is not necesary becase the transpose just above\n",
    "d= a + c\n",
    "print(d)"
   ]
  },
  {
   "cell_type": "markdown",
   "metadata": {},
   "source": [
    "#### 11. Print *a* and *d*. Notice the difference and relation of the two array in terms of the values? Explain."
   ]
  },
  {
   "cell_type": "code",
   "execution_count": 16,
   "metadata": {},
   "outputs": [
    {
     "name": "stdout",
     "output_type": "stream",
     "text": [
      "[[[0.61526896 0.76017765 0.50797715 0.93468761 0.70820072]\n",
      "  [0.55798169 0.10298531 0.6374498  0.45924971 0.05444781]\n",
      "  [0.17892304 0.09790997 0.91495434 0.37341665 0.36905863]]\n",
      "\n",
      " [[0.48502514 0.64672936 0.61316694 0.13974514 0.10380713]\n",
      "  [0.52899801 0.11373726 0.78082968 0.26405525 0.31240051]\n",
      "  [0.04130626 0.68957762 0.15914575 0.20585253 0.25530079]]]\n",
      "30\n",
      "[[[1.61526896 1.76017765 1.50797715 1.93468761 1.70820072]\n",
      "  [1.55798169 1.10298531 1.6374498  1.45924971 1.05444781]\n",
      "  [1.17892304 1.09790997 1.91495434 1.37341665 1.36905863]]\n",
      "\n",
      " [[1.48502514 1.64672936 1.61316694 1.13974514 1.10380713]\n",
      "  [1.52899801 1.11373726 1.78082968 1.26405525 1.31240051]\n",
      "  [1.04130626 1.68957762 1.15914575 1.20585253 1.25530079]]]\n",
      "30\n"
     ]
    }
   ],
   "source": [
    "#the values of the elements in array \"d\" is the same that the values of array \"a\" adding 1.\n",
    "print(a)\n",
    "print(a.size)\n",
    "print(d)\n",
    "print(d.size)"
   ]
  },
  {
   "cell_type": "markdown",
   "metadata": {},
   "source": [
    "#### 12. Multiply *a* and *c*. Assign the result to *e*."
   ]
  },
  {
   "cell_type": "code",
   "execution_count": 17,
   "metadata": {},
   "outputs": [
    {
     "name": "stdout",
     "output_type": "stream",
     "text": [
      "[[[0.61526896 0.76017765 0.50797715 0.93468761 0.70820072]\n",
      "  [0.55798169 0.10298531 0.6374498  0.45924971 0.05444781]\n",
      "  [0.17892304 0.09790997 0.91495434 0.37341665 0.36905863]]\n",
      "\n",
      " [[0.48502514 0.64672936 0.61316694 0.13974514 0.10380713]\n",
      "  [0.52899801 0.11373726 0.78082968 0.26405525 0.31240051]\n",
      "  [0.04130626 0.68957762 0.15914575 0.20585253 0.25530079]]]\n"
     ]
    }
   ],
   "source": [
    "# your code here\n",
    "e= a*c\n",
    "print(e)"
   ]
  },
  {
   "cell_type": "markdown",
   "metadata": {},
   "source": [
    "#### 13. Does *e* equal to *a*? Why or why not?\n"
   ]
  },
  {
   "cell_type": "code",
   "execution_count": 18,
   "metadata": {},
   "outputs": [],
   "source": [
    "# Yes because each element of \"c\" array values 1, so the product between a and c has the same value that \"e\"."
   ]
  },
  {
   "cell_type": "markdown",
   "metadata": {},
   "source": [
    "#### 14. Identify the max, min, and mean values in *d*. Assign those values to variables *d_max*, *d_min* and *d_mean*."
   ]
  },
  {
   "cell_type": "code",
   "execution_count": 52,
   "metadata": {},
   "outputs": [
    {
     "name": "stdout",
     "output_type": "stream",
     "text": [
      "[[[1.61526896 1.76017765 1.50797715 1.93468761 1.70820072]\n",
      "  [1.55798169 1.10298531 1.6374498  1.45924971 1.05444781]\n",
      "  [1.17892304 1.09790997 1.91495434 1.37341665 1.36905863]]\n",
      "\n",
      " [[1.48502514 1.64672936 1.61316694 1.13974514 1.10380713]\n",
      "  [1.52899801 1.11373726 1.78082968 1.26405525 1.31240051]\n",
      "  [1.04130626 1.68957762 1.15914575 1.20585253 1.25530079]]]\n",
      "1.9346876073137405\n",
      "1.0413062649462308\n",
      "1.4204122139672868\n"
     ]
    }
   ],
   "source": [
    "print(d)\n",
    "print(d.max())\n",
    "print(d.min())\n",
    "print(d.mean())"
   ]
  },
  {
   "cell_type": "markdown",
   "metadata": {},
   "source": [
    "#### 15. Now we want to label the values in *d*. First create an empty array *f* with the same shape (i.e. 2x3x5) as *d* using `np.empty`.\n"
   ]
  },
  {
   "cell_type": "code",
   "execution_count": 53,
   "metadata": {},
   "outputs": [
    {
     "name": "stdout",
     "output_type": "stream",
     "text": [
      "[[[1.61526896 1.76017765 1.50797715 1.93468761 1.70820072]\n",
      "  [1.55798169 1.10298531 1.6374498  1.45924971 1.05444781]\n",
      "  [1.17892304 1.09790997 1.91495434 1.37341665 1.36905863]]\n",
      "\n",
      " [[1.48502514 1.64672936 1.61316694 1.13974514 1.10380713]\n",
      "  [1.52899801 1.11373726 1.78082968 1.26405525 1.31240051]\n",
      "  [1.04130626 1.68957762 1.15914575 1.20585253 1.25530079]]]\n"
     ]
    }
   ],
   "source": [
    "#Respuesta\n",
    "f= np.empty((2,3,5))\n",
    "print(f)"
   ]
  },
  {
   "cell_type": "markdown",
   "metadata": {},
   "source": [
    "#### 16. Populate the values in *f*. \n",
    "\n",
    "For each value in *d*, if it's larger than *d_min* but smaller than *d_mean*, assign 25 to the corresponding value in *f*. If a value in *d* is larger than *d_mean* but smaller than *d_max*, assign 75 to the corresponding value in *f*. If a value equals to *d_mean*, assign 50 to the corresponding value in *f*. Assign 0 to the corresponding value(s) in *f* for *d_min* in *d*. Assign 100 to the corresponding value(s) in *f* for *d_max* in *d*. In the end, f should have only the following values: 0, 25, 50, 75, and 100.\n",
    "\n",
    "**Note**: you don't have to use Numpy in this question."
   ]
  },
  {
   "cell_type": "code",
   "execution_count": 54,
   "metadata": {},
   "outputs": [],
   "source": [
    "f= np.zeros((2,3,5))\n"
   ]
  },
  {
   "cell_type": "code",
   "execution_count": 71,
   "metadata": {},
   "outputs": [
    {
     "name": "stdout",
     "output_type": "stream",
     "text": [
      "[[[ 75.  75.  75. 100.  75.]\n",
      "  [ 75.  75.  75.  75.  75.]\n",
      "  [ 75.  75.  75.  75.  75.]]\n",
      "\n",
      " [[ 75.  75.  75.  75.  75.]\n",
      "  [ 75.  75.  75.  75.  75.]\n",
      "  [  0.  75.  75.  75.  75.]]]\n"
     ]
    }
   ],
   "source": [
    "# Lo he intentado hacer al inicio con un for, pero era inviable. Error en cada paso.\n",
    "#Buscando he visto esta forma aunque no sé si es lo correcto, no estoy convenicida \n",
    "\n",
    "f = np.zeros((2, 3, 5))\n",
    "\n",
    "f[np.where(d > d.min())] = 25\n",
    "f[np.where(d < d.mean())] = 25\n",
    "f[np.where(d > d.mean())] = 75\n",
    "f[np.where(d < d.max())] = 75\n",
    "f[np.where(d == d.mean())] = 50\n",
    "f[np.where(d == d.min())] = 0\n",
    "f[np.where(d == d.max())] = 100\n",
    "\n",
    "print(f)"
   ]
  },
  {
   "cell_type": "markdown",
   "metadata": {},
   "source": [
    "#### 17. Print *d* and *f*. Do you have your expected *f*?\n",
    "For instance, if your *d* is:\n",
    "```python\n",
    "[[[1.85836099, 1.67064465, 1.62576044, 1.40243961, 1.88454931],\n",
    "[1.75354326, 1.69403643, 1.36729252, 1.61415071, 1.12104981],\n",
    "[1.72201435, 1.1862918 , 1.87078449, 1.7726778 , 1.88180042]],\n",
    "[[1.44747908, 1.31673383, 1.02000951, 1.52218947, 1.97066381],\n",
    "[1.79129243, 1.74983003, 1.96028037, 1.85166831, 1.65450881],\n",
    "[1.18068344, 1.9587381 , 1.00656599, 1.93402165, 1.73514584]]]\n",
    "```\n",
    "Your *f* should be:\n",
    "```python\n",
    "[[[ 75.,  75.,  75.,  25.,  75.],\n",
    "[ 75.,  75.,  25.,  25.,  25.],\n",
    "[ 75.,  25.,  75.,  75.,  75.]],\n",
    "[[ 25.,  25.,  25.,  25., 100.],\n",
    "[ 75.,  75.,  75.,  75.,  75.],\n",
    "[ 25.,  75.,   0.,  75.,  75.]]]\n",
    "```"
   ]
  },
  {
   "cell_type": "code",
   "execution_count": 72,
   "metadata": {},
   "outputs": [
    {
     "name": "stdout",
     "output_type": "stream",
     "text": [
      "[[[1.61526896 1.76017765 1.50797715 1.93468761 1.70820072]\n",
      "  [1.55798169 1.10298531 1.6374498  1.45924971 1.05444781]\n",
      "  [1.17892304 1.09790997 1.91495434 1.37341665 1.36905863]]\n",
      "\n",
      " [[1.48502514 1.64672936 1.61316694 1.13974514 1.10380713]\n",
      "  [1.52899801 1.11373726 1.78082968 1.26405525 1.31240051]\n",
      "  [1.04130626 1.68957762 1.15914575 1.20585253 1.25530079]]]\n",
      "[[[ 75.  75.  75. 100.  75.]\n",
      "  [ 75.  75.  75.  75.  75.]\n",
      "  [ 75.  75.  75.  75.  75.]]\n",
      "\n",
      " [[ 75.  75.  75.  75.  75.]\n",
      "  [ 75.  75.  75.  75.  75.]\n",
      "  [  0.  75.  75.  75.  75.]]]\n"
     ]
    }
   ],
   "source": [
    "#Analizando los resultados sí que creo que son correctos. \n",
    "print(d)\n",
    "print(f)"
   ]
  },
  {
   "cell_type": "markdown",
   "metadata": {},
   "source": [
    "#### 18. Bonus question: instead of using numbers (i.e. 0, 25, 50, 75, and 100), use string values  (\"A\", \"B\", \"C\", \"D\", and \"E\") to label the array elements. For the example above, the expected result is:\n",
    "\n",
    "```python\n",
    "[[[ 'D',  'D',  'D',  'B',  'D'],\n",
    "[ 'D',  'D',  'B',  'B',  'B'],\n",
    "[ 'D',  'B',  'D',  'D',  'D']],\n",
    "[[ 'B',  'B',  'B',  'B',  'E'],\n",
    "[ 'D',  'D',  'D',  'D',  'D'],\n",
    "[ 'B',  'D',   'A',  'D', 'D']]]\n",
    "```\n",
    "**Note**: you don't have to use Numpy in this question."
   ]
  },
  {
   "cell_type": "code",
   "execution_count": 104,
   "metadata": {},
   "outputs": [
    {
     "name": "stdout",
     "output_type": "stream",
     "text": [
      "[[['D' 'D' 'D' 'B' 'D']\n",
      "  ['D' 'D' 'D' 'D' 'D']\n",
      "  ['D' 'D' 'D' 'D' 'D']]\n",
      "\n",
      " [['D' 'D' 'D' 'D' 'D']\n",
      "  ['D' 'D' 'D' 'D' 'D']\n",
      "  ['A' 'D' 'D' 'D' 'D']]]\n"
     ]
    }
   ],
   "source": [
    "# Creo que es algo así, pero no me funciona bien porque los datos de mi matriz son diferentes.\n",
    "\n",
    "f = f.astype(str)\n",
    "f[f == ('75.')]= 'D'\n",
    "f[f == ('100.0')]= 'B'\n",
    "f[f == ('0.0')]= 'A'\n",
    "\n",
    "print(f)"
   ]
  }
 ],
 "metadata": {
  "kernelspec": {
   "display_name": "Python [conda env:m1_env]",
   "language": "python",
   "name": "conda-env-m1_env-py"
  },
  "language_info": {
   "codemirror_mode": {
    "name": "ipython",
    "version": 3
   },
   "file_extension": ".py",
   "mimetype": "text/x-python",
   "name": "python",
   "nbconvert_exporter": "python",
   "pygments_lexer": "ipython3",
   "version": "3.9.16"
  }
 },
 "nbformat": 4,
 "nbformat_minor": 2
}
